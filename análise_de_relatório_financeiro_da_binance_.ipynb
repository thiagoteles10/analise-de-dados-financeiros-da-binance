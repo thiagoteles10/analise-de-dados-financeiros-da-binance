{
  "nbformat": 4,
  "nbformat_minor": 0,
  "metadata": {
    "colab": {
      "provenance": [],
      "authorship_tag": "ABX9TyMZxN5T7wsa40EBdi89oSCS",
      "include_colab_link": true
    },
    "kernelspec": {
      "name": "python3",
      "display_name": "Python 3"
    },
    "language_info": {
      "name": "python"
    }
  },
  "cells": [
    {
      "cell_type": "markdown",
      "metadata": {
        "id": "view-in-github",
        "colab_type": "text"
      },
      "source": [
        "<a href=\"https://colab.research.google.com/github/thiagoteles10/analise-de-dados-financeiros-da-binance/blob/main/an%C3%A1lise_de_relat%C3%B3rio_financeiro_da_binance_.ipynb\" target=\"_parent\"><img src=\"https://colab.research.google.com/assets/colab-badge.svg\" alt=\"Open In Colab\"/></a>"
      ]
    },
    {
      "cell_type": "code",
      "execution_count": 3,
      "metadata": {
        "id": "yYqXu4BbkDn1"
      },
      "outputs": [],
      "source": [
        "import pandas as pd\n",
        "import matplotlib.pyplot as plt\n",
        "import seaborn as sns"
      ]
    },
    {
      "cell_type": "code",
      "source": [
        "df = pd.read_csv('extrato binance.csv')"
      ],
      "metadata": {
        "id": "KblVDyZ-kVam"
      },
      "execution_count": 4,
      "outputs": []
    },
    {
      "cell_type": "code",
      "source": [
        "df.head()"
      ],
      "metadata": {
        "colab": {
          "base_uri": "https://localhost:8080/",
          "height": 206
        },
        "id": "XQQW-EaIEOrE",
        "outputId": "8484f44d-f399-4ad3-ea89-24e283f13485"
      },
      "execution_count": 5,
      "outputs": [
        {
          "output_type": "execute_result",
          "data": {
            "text/plain": [
              "     User_ID             UTC_Time Account          Operation Coin    Change  \\\n",
              "0  427629355  2022-06-03 19:13:49    SPOT            Deposit  BRL  201.5000   \n",
              "1  427629355  2022-06-10 00:22:25    SPOT            Deposit  BRL  100.0000   \n",
              "2  427629355  2022-06-10 14:37:11    SPOT  Transaction Spend  BRL -301.3280   \n",
              "3  427629355  2022-06-10 14:37:11    SPOT    Transaction Buy  ADA  101.8000   \n",
              "4  427629355  2022-06-10 14:37:11    SPOT                Fee  ADA   -0.1018   \n",
              "\n",
              "  Remark  \n",
              "0    NaN  \n",
              "1    NaN  \n",
              "2    NaN  \n",
              "3    NaN  \n",
              "4    NaN  "
            ],
            "text/html": [
              "\n",
              "  <div id=\"df-4e1a9be4-8873-44e0-a167-4a6c3723a2ce\">\n",
              "    <div class=\"colab-df-container\">\n",
              "      <div>\n",
              "<style scoped>\n",
              "    .dataframe tbody tr th:only-of-type {\n",
              "        vertical-align: middle;\n",
              "    }\n",
              "\n",
              "    .dataframe tbody tr th {\n",
              "        vertical-align: top;\n",
              "    }\n",
              "\n",
              "    .dataframe thead th {\n",
              "        text-align: right;\n",
              "    }\n",
              "</style>\n",
              "<table border=\"1\" class=\"dataframe\">\n",
              "  <thead>\n",
              "    <tr style=\"text-align: right;\">\n",
              "      <th></th>\n",
              "      <th>User_ID</th>\n",
              "      <th>UTC_Time</th>\n",
              "      <th>Account</th>\n",
              "      <th>Operation</th>\n",
              "      <th>Coin</th>\n",
              "      <th>Change</th>\n",
              "      <th>Remark</th>\n",
              "    </tr>\n",
              "  </thead>\n",
              "  <tbody>\n",
              "    <tr>\n",
              "      <th>0</th>\n",
              "      <td>427629355</td>\n",
              "      <td>2022-06-03 19:13:49</td>\n",
              "      <td>SPOT</td>\n",
              "      <td>Deposit</td>\n",
              "      <td>BRL</td>\n",
              "      <td>201.5000</td>\n",
              "      <td>NaN</td>\n",
              "    </tr>\n",
              "    <tr>\n",
              "      <th>1</th>\n",
              "      <td>427629355</td>\n",
              "      <td>2022-06-10 00:22:25</td>\n",
              "      <td>SPOT</td>\n",
              "      <td>Deposit</td>\n",
              "      <td>BRL</td>\n",
              "      <td>100.0000</td>\n",
              "      <td>NaN</td>\n",
              "    </tr>\n",
              "    <tr>\n",
              "      <th>2</th>\n",
              "      <td>427629355</td>\n",
              "      <td>2022-06-10 14:37:11</td>\n",
              "      <td>SPOT</td>\n",
              "      <td>Transaction Spend</td>\n",
              "      <td>BRL</td>\n",
              "      <td>-301.3280</td>\n",
              "      <td>NaN</td>\n",
              "    </tr>\n",
              "    <tr>\n",
              "      <th>3</th>\n",
              "      <td>427629355</td>\n",
              "      <td>2022-06-10 14:37:11</td>\n",
              "      <td>SPOT</td>\n",
              "      <td>Transaction Buy</td>\n",
              "      <td>ADA</td>\n",
              "      <td>101.8000</td>\n",
              "      <td>NaN</td>\n",
              "    </tr>\n",
              "    <tr>\n",
              "      <th>4</th>\n",
              "      <td>427629355</td>\n",
              "      <td>2022-06-10 14:37:11</td>\n",
              "      <td>SPOT</td>\n",
              "      <td>Fee</td>\n",
              "      <td>ADA</td>\n",
              "      <td>-0.1018</td>\n",
              "      <td>NaN</td>\n",
              "    </tr>\n",
              "  </tbody>\n",
              "</table>\n",
              "</div>\n",
              "      <button class=\"colab-df-convert\" onclick=\"convertToInteractive('df-4e1a9be4-8873-44e0-a167-4a6c3723a2ce')\"\n",
              "              title=\"Convert this dataframe to an interactive table.\"\n",
              "              style=\"display:none;\">\n",
              "        \n",
              "  <svg xmlns=\"http://www.w3.org/2000/svg\" height=\"24px\"viewBox=\"0 0 24 24\"\n",
              "       width=\"24px\">\n",
              "    <path d=\"M0 0h24v24H0V0z\" fill=\"none\"/>\n",
              "    <path d=\"M18.56 5.44l.94 2.06.94-2.06 2.06-.94-2.06-.94-.94-2.06-.94 2.06-2.06.94zm-11 1L8.5 8.5l.94-2.06 2.06-.94-2.06-.94L8.5 2.5l-.94 2.06-2.06.94zm10 10l.94 2.06.94-2.06 2.06-.94-2.06-.94-.94-2.06-.94 2.06-2.06.94z\"/><path d=\"M17.41 7.96l-1.37-1.37c-.4-.4-.92-.59-1.43-.59-.52 0-1.04.2-1.43.59L10.3 9.45l-7.72 7.72c-.78.78-.78 2.05 0 2.83L4 21.41c.39.39.9.59 1.41.59.51 0 1.02-.2 1.41-.59l7.78-7.78 2.81-2.81c.8-.78.8-2.07 0-2.86zM5.41 20L4 18.59l7.72-7.72 1.47 1.35L5.41 20z\"/>\n",
              "  </svg>\n",
              "      </button>\n",
              "      \n",
              "  <style>\n",
              "    .colab-df-container {\n",
              "      display:flex;\n",
              "      flex-wrap:wrap;\n",
              "      gap: 12px;\n",
              "    }\n",
              "\n",
              "    .colab-df-convert {\n",
              "      background-color: #E8F0FE;\n",
              "      border: none;\n",
              "      border-radius: 50%;\n",
              "      cursor: pointer;\n",
              "      display: none;\n",
              "      fill: #1967D2;\n",
              "      height: 32px;\n",
              "      padding: 0 0 0 0;\n",
              "      width: 32px;\n",
              "    }\n",
              "\n",
              "    .colab-df-convert:hover {\n",
              "      background-color: #E2EBFA;\n",
              "      box-shadow: 0px 1px 2px rgba(60, 64, 67, 0.3), 0px 1px 3px 1px rgba(60, 64, 67, 0.15);\n",
              "      fill: #174EA6;\n",
              "    }\n",
              "\n",
              "    [theme=dark] .colab-df-convert {\n",
              "      background-color: #3B4455;\n",
              "      fill: #D2E3FC;\n",
              "    }\n",
              "\n",
              "    [theme=dark] .colab-df-convert:hover {\n",
              "      background-color: #434B5C;\n",
              "      box-shadow: 0px 1px 3px 1px rgba(0, 0, 0, 0.15);\n",
              "      filter: drop-shadow(0px 1px 2px rgba(0, 0, 0, 0.3));\n",
              "      fill: #FFFFFF;\n",
              "    }\n",
              "  </style>\n",
              "\n",
              "      <script>\n",
              "        const buttonEl =\n",
              "          document.querySelector('#df-4e1a9be4-8873-44e0-a167-4a6c3723a2ce button.colab-df-convert');\n",
              "        buttonEl.style.display =\n",
              "          google.colab.kernel.accessAllowed ? 'block' : 'none';\n",
              "\n",
              "        async function convertToInteractive(key) {\n",
              "          const element = document.querySelector('#df-4e1a9be4-8873-44e0-a167-4a6c3723a2ce');\n",
              "          const dataTable =\n",
              "            await google.colab.kernel.invokeFunction('convertToInteractive',\n",
              "                                                     [key], {});\n",
              "          if (!dataTable) return;\n",
              "\n",
              "          const docLinkHtml = 'Like what you see? Visit the ' +\n",
              "            '<a target=\"_blank\" href=https://colab.research.google.com/notebooks/data_table.ipynb>data table notebook</a>'\n",
              "            + ' to learn more about interactive tables.';\n",
              "          element.innerHTML = '';\n",
              "          dataTable['output_type'] = 'display_data';\n",
              "          await google.colab.output.renderOutput(dataTable, element);\n",
              "          const docLink = document.createElement('div');\n",
              "          docLink.innerHTML = docLinkHtml;\n",
              "          element.appendChild(docLink);\n",
              "        }\n",
              "      </script>\n",
              "    </div>\n",
              "  </div>\n",
              "  "
            ]
          },
          "metadata": {},
          "execution_count": 5
        }
      ]
    },
    {
      "cell_type": "code",
      "source": [
        "# Converter a coluna \"UC_Time\" para o formato de data\n",
        "df['UTC_Time'] = pd.to_datetime(df['UTC_Time'])\n",
        "\n",
        "# Extrair apenas o mês e o ano da coluna \"UC_Time\"\n",
        "df['UTC_Time'] = df['UTC_Time'].dt.strftime('%Y-%m')\n",
        "\n",
        "df['UTC_Time'] = pd.to_datetime(df['UTC_Time'])"
      ],
      "metadata": {
        "id": "PzXvxgA39rEV"
      },
      "execution_count": 6,
      "outputs": []
    },
    {
      "cell_type": "code",
      "source": [
        "df.info()"
      ],
      "metadata": {
        "colab": {
          "base_uri": "https://localhost:8080/"
        },
        "id": "KYVCo2cPB8uq",
        "outputId": "dd2a346f-efcf-4067-9b43-f427543fa4bc"
      },
      "execution_count": 7,
      "outputs": [
        {
          "output_type": "stream",
          "name": "stdout",
          "text": [
            "<class 'pandas.core.frame.DataFrame'>\n",
            "RangeIndex: 1272 entries, 0 to 1271\n",
            "Data columns (total 7 columns):\n",
            " #   Column     Non-Null Count  Dtype         \n",
            "---  ------     --------------  -----         \n",
            " 0   User_ID    1272 non-null   int64         \n",
            " 1   UTC_Time   1272 non-null   datetime64[ns]\n",
            " 2   Account    1272 non-null   object        \n",
            " 3   Operation  1272 non-null   object        \n",
            " 4   Coin       1272 non-null   object        \n",
            " 5   Change     1272 non-null   float64       \n",
            " 6   Remark     9 non-null      object        \n",
            "dtypes: datetime64[ns](1), float64(1), int64(1), object(4)\n",
            "memory usage: 69.7+ KB\n"
          ]
        }
      ]
    },
    {
      "cell_type": "code",
      "source": [
        "# Criar uma nova coluna \"Month\" com o mês correspondente\n",
        "df['Month'] = df['UTC_Time'].dt.month\n",
        "\n",
        "# Contar o número de depósitos em cada mês\n",
        "meses_deposito = df.loc[df['Operation'] == 'Deposit', 'Month'].value_counts()\n",
        "\n",
        "# Obter o mês com o maior número de depósitos\n",
        "mes_mais_depositos = meses_deposito.idxmax()\n",
        "\n",
        "print(mes_mais_depositos)"
      ],
      "metadata": {
        "colab": {
          "base_uri": "https://localhost:8080/"
        },
        "id": "GRaGhbYg9yqL",
        "outputId": "e5722ed8-1271-4aa5-994a-efce5914715d"
      },
      "execution_count": 8,
      "outputs": [
        {
          "output_type": "stream",
          "name": "stdout",
          "text": [
            "8\n"
          ]
        }
      ]
    },
    {
      "cell_type": "code",
      "source": [
        "# mostrando os valor investido por mês durante o ano de 2022\n",
        "\n",
        "# Filtrar os registros de depósito e calcular o valor total de depósito para cada mês\n",
        "depositos_por_mes = df[df['Operation'] == 'Deposit'].groupby('Month')['Change'].sum()\n",
        "\n",
        "# Configurar o estilo do gráfico\n",
        "sns.set(style='darkgrid')\n",
        "\n",
        "# Plotar o gráfico de barras\n",
        "plt.figure(figsize=(6, 4))\n",
        "ax = sns.barplot(x=depositos_por_mes.index, y=depositos_por_mes.values)\n",
        "plt.xlabel(' Mês')\n",
        "plt.ylabel('Valor Total de Depósito')\n",
        "plt.title('Valor Total de Depósito em reais por Mês')\n",
        "\n",
        "# Adicionar os valores em cima de cada barra\n",
        "for i, v in enumerate(depositos_por_mes.values):\n",
        "    ax.text(i, v, str(v), ha='center', va='bottom', fontweight='bold')\n",
        "\n",
        "plt.show()"
      ],
      "metadata": {
        "colab": {
          "base_uri": "https://localhost:8080/",
          "height": 419
        },
        "id": "uyQdRyMnHzLV",
        "outputId": "b8205ac5-9aa6-4752-a9c5-9dce7af71991"
      },
      "execution_count": 9,
      "outputs": [
        {
          "output_type": "display_data",
          "data": {
            "text/plain": [
              "<Figure size 600x400 with 1 Axes>"
            ],
            "image/png": "[encoded data removed]"
          },
          "metadata": {}
        }
      ]
    },
    {
      "cell_type": "code",
      "source": [
        "# Excluido a coluna User_ID e Remark pois são irrelevantes\n",
        "df = df.drop(['User_ID','Remark'],axis=1)"
      ],
      "metadata": {
        "id": "BOh8drpYqs2l"
      },
      "execution_count": 11,
      "outputs": []
    },
    {
      "cell_type": "code",
      "source": [
        "# verificando o valor comprado em dólar durante o ano de 2022\n",
        "usdt = df[(df['Operation'] == 'Transaction Buy') & (df['Coin'] == 'USDT')]\n",
        "\n",
        "print(f'o valor comprado de USDT durante o ano de 2022 foi $ {usdt.Change.sum()} dólares')"
      ],
      "metadata": {
        "colab": {
          "base_uri": "https://localhost:8080/"
        },
        "id": "tVTJNMNksL8g",
        "outputId": "cb66a9b5-82dd-4883-b703-1411b6316de7"
      },
      "execution_count": 12,
      "outputs": [
        {
          "output_type": "stream",
          "name": "stdout",
          "text": [
            "o valor comprado de USDT durante o ano de 2022 foi $ 983.5 dólares\n"
          ]
        }
      ]
    },
    {
      "cell_type": "code",
      "source": [
        "# verificando os tipos de operaçõesda coluna operation\n",
        "df['Operation'].unique()"
      ],
      "metadata": {
        "colab": {
          "base_uri": "https://localhost:8080/"
        },
        "id": "3jLOxf0-0KOe",
        "outputId": "4050227c-a6f1-40a1-81d5-5c87971afc78"
      },
      "execution_count": 13,
      "outputs": [
        {
          "output_type": "execute_result",
          "data": {
            "text/plain": [
              "array(['Deposit', 'Transaction Spend', 'Transaction Buy', 'Fee',\n",
              "       'Cashback Voucher', 'Transaction Sold', 'Transaction Revenue',\n",
              "       'Transfer Between Spot Account and UM Futures Account',\n",
              "       'Realize profit and loss', 'Funding Fee',\n",
              "       'Insurance Fund Compensation', 'Cash Voucher Distribution',\n",
              "       'Staking Purchase', 'Staking Rewards', 'Distribution',\n",
              "       'Simple Earn Locked Rewards', 'Simple Earn Locked Redemption',\n",
              "       'Withdraw'], dtype=object)"
            ]
          },
          "metadata": {},
          "execution_count": 13
        }
      ]
    },
    {
      "cell_type": "code",
      "source": [
        "# Filtrar as linhas com a operação \"Deposit\" e verificando o valor investido em reais\n",
        "brl = df[(df['Operation'] == 'Deposit') & (df['Coin'] == 'BRL')]\n",
        "\n",
        "print(f'o valor investido no ano de 2022 em real foi de R$ {brl.Change.sum()}')"
      ],
      "metadata": {
        "colab": {
          "base_uri": "https://localhost:8080/"
        },
        "id": "8_ZzGtJ6xx5z",
        "outputId": "2354d4f2-745f-483b-e17a-48b733174f56"
      },
      "execution_count": 14,
      "outputs": [
        {
          "output_type": "stream",
          "name": "stdout",
          "text": [
            "o valor investido no ano de 2022 em real foi de R$ 6201.5\n"
          ]
        }
      ]
    },
    {
      "cell_type": "code",
      "source": [
        "# Calculando o valor total de taxas pagas durante o ano de 2022\n",
        "df_taxas = df[df['Operation']== 'Fee']\n",
        "taxas = df_taxas['Change'].sum()\n",
        "print(f'o valor total de taxas pago $ {taxas} dólares')"
      ],
      "metadata": {
        "colab": {
          "base_uri": "https://localhost:8080/"
        },
        "id": "VrLNjP5LwBDc",
        "outputId": "355ba369-b9c5-4fac-9cca-f7da8193a800"
      },
      "execution_count": 15,
      "outputs": [
        {
          "output_type": "stream",
          "name": "stdout",
          "text": [
            "o valor total de taxas pago $ -25.401186029999998 dólares\n"
          ]
        }
      ]
    },
    {
      "cell_type": "code",
      "source": [
        "# calculando os ganhos simples de recompensas bloqueadas\n",
        "df_ganhos = df[df['Operation']=='Simple Earn Locked Rewards']\n",
        "ganhos_recompensas = df_ganhos['Change'].sum()\n",
        "print(f'o total de recompensas foi de $ {ganhos_recompensas} dólares')"
      ],
      "metadata": {
        "colab": {
          "base_uri": "https://localhost:8080/"
        },
        "id": "g-eaW6lp0V-k",
        "outputId": "3c1da3be-ed75-451f-ba6e-16e6dfeed862"
      },
      "execution_count": 16,
      "outputs": [
        {
          "output_type": "stream",
          "name": "stdout",
          "text": [
            "o total de recompensas foi de $ 88.86710248 dólares\n"
          ]
        }
      ]
    },
    {
      "cell_type": "code",
      "source": [
        "# calculando as recompensas de staking\n",
        "df_stake = df[df['Operation']== 'Staking Rewards']\n",
        "ganhos_stake = df_stake['Change'].sum()\n",
        "print(f'o total de ganhos de staking foi de $ {ganhos_stake} dólares')"
      ],
      "metadata": {
        "colab": {
          "base_uri": "https://localhost:8080/"
        },
        "id": "XvBV4etA1qy_",
        "outputId": "94ff8868-af15-4012-8109-ea71ee315aaa"
      },
      "execution_count": 17,
      "outputs": [
        {
          "output_type": "stream",
          "name": "stdout",
          "text": [
            "o total de ganhos de staking foi de $ 65.69046150000001 dólares\n"
          ]
        }
      ]
    },
    {
      "cell_type": "code",
      "source": [
        "# calculando o total de perdas e lucros nos futuros\n",
        "df_lucro_perda = df[df['Operation']== 'Realize profit and loss']\n",
        "lucro_perda = df_lucro_perda['Change'].sum()\n",
        "print(f'a soma total ganhos e perdas nos futuros foi de $ {lucro_perda} dólares')"
      ],
      "metadata": {
        "colab": {
          "base_uri": "https://localhost:8080/"
        },
        "id": "L-ES8OX_3VgM",
        "outputId": "cabb2f25-8813-4373-ca8f-20672c0a53e6"
      },
      "execution_count": 18,
      "outputs": [
        {
          "output_type": "stream",
          "name": "stdout",
          "text": [
            "a soma total ganhos e perdas nos futuros foi de $ -56.147759969999996 dólares\n"
          ]
        }
      ]
    },
    {
      "cell_type": "code",
      "source": [
        "# gastos com compensação do fundo de seguro\n",
        "df_insurance_funding_fee = df[df['Operation']=='Insurance Fund Compensation']\n",
        "funding_insurance_fee = df_insurance_funding_fee['Change'].sum()\n",
        "print(f'total de taxas de compensação de fundos de seguro foi de  $ {funding_insurance_fee} dólares')"
      ],
      "metadata": {
        "colab": {
          "base_uri": "https://localhost:8080/"
        },
        "id": "QZrPcMlw41Yv",
        "outputId": "1dc39ff7-3a8a-4b8b-ef93-d40793fb103b"
      },
      "execution_count": 19,
      "outputs": [
        {
          "output_type": "stream",
          "name": "stdout",
          "text": [
            "total de taxas de compensação de fundos de seguro foi de  $ -4.65115621 dólares\n"
          ]
        }
      ]
    },
    {
      "cell_type": "code",
      "source": [
        "# Verificando as moedas que foram sacadas para carteira e a quantidade de cada moeda.\n",
        "sacadas = df[df['Operation']== 'Withdraw']\n",
        "qtd = sacadas.Change.reset_index() \n",
        "coin = sacadas.Coin.reset_index()\n",
        "merged_coin = pd.merge(coin, qtd, on='index')\n",
        "merged_coin = merged_coin.drop('index',axis=1)\n",
        "merged_coin"
      ],
      "metadata": {
        "colab": {
          "base_uri": "https://localhost:8080/",
          "height": 331
        },
        "id": "Vwg9xH8S5Bq-",
        "outputId": "6435e46f-b5c8-47a6-9740-c36baa791005"
      },
      "execution_count": 20,
      "outputs": [
        {
          "output_type": "execute_result",
          "data": {
            "text/plain": [
              "    Coin       Change\n",
              "0   LINK   -27.238830\n",
              "1  MATIC  -216.314324\n",
              "2    UNI   -10.830620\n",
              "3    ADA  -104.561665\n",
              "4   ROSE    -1.000000\n",
              "5   ROSE -3284.000000\n",
              "6    DOT   -24.012840\n",
              "7    ACA    -1.000000\n",
              "8    ACA  -602.789440"
            ],
            "text/html": [
              "\n",
              "  <div id=\"df-f4ac7284-0eac-4e7f-b171-86c6cdc4dfb8\">\n",
              "    <div class=\"colab-df-container\">\n",
              "      <div>\n",
              "<style scoped>\n",
              "    .dataframe tbody tr th:only-of-type {\n",
              "        vertical-align: middle;\n",
              "    }\n",
              "\n",
              "    .dataframe tbody tr th {\n",
              "        vertical-align: top;\n",
              "    }\n",
              "\n",
              "    .dataframe thead th {\n",
              "        text-align: right;\n",
              "    }\n",
              "</style>\n",
              "<table border=\"1\" class=\"dataframe\">\n",
              "  <thead>\n",
              "    <tr style=\"text-align: right;\">\n",
              "      <th></th>\n",
              "      <th>Coin</th>\n",
              "      <th>Change</th>\n",
              "    </tr>\n",
              "  </thead>\n",
              "  <tbody>\n",
              "    <tr>\n",
              "      <th>0</th>\n",
              "      <td>LINK</td>\n",
              "      <td>-27.238830</td>\n",
              "    </tr>\n",
              "    <tr>\n",
              "      <th>1</th>\n",
              "      <td>MATIC</td>\n",
              "      <td>-216.314324</td>\n",
              "    </tr>\n",
              "    <tr>\n",
              "      <th>2</th>\n",
              "      <td>UNI</td>\n",
              "      <td>-10.830620</td>\n",
              "    </tr>\n",
              "    <tr>\n",
              "      <th>3</th>\n",
              "      <td>ADA</td>\n",
              "      <td>-104.561665</td>\n",
              "    </tr>\n",
              "    <tr>\n",
              "      <th>4</th>\n",
              "      <td>ROSE</td>\n",
              "      <td>-1.000000</td>\n",
              "    </tr>\n",
              "    <tr>\n",
              "      <th>5</th>\n",
              "      <td>ROSE</td>\n",
              "      <td>-3284.000000</td>\n",
              "    </tr>\n",
              "    <tr>\n",
              "      <th>6</th>\n",
              "      <td>DOT</td>\n",
              "      <td>-24.012840</td>\n",
              "    </tr>\n",
              "    <tr>\n",
              "      <th>7</th>\n",
              "      <td>ACA</td>\n",
              "      <td>-1.000000</td>\n",
              "    </tr>\n",
              "    <tr>\n",
              "      <th>8</th>\n",
              "      <td>ACA</td>\n",
              "      <td>-602.789440</td>\n",
              "    </tr>\n",
              "  </tbody>\n",
              "</table>\n",
              "</div>\n",
              "      <button class=\"colab-df-convert\" onclick=\"convertToInteractive('df-f4ac7284-0eac-4e7f-b171-86c6cdc4dfb8')\"\n",
              "              title=\"Convert this dataframe to an interactive table.\"\n",
              "              style=\"display:none;\">\n",
              "        \n",
              "  <svg xmlns=\"http://www.w3.org/2000/svg\" height=\"24px\"viewBox=\"0 0 24 24\"\n",
              "       width=\"24px\">\n",
              "    <path d=\"M0 0h24v24H0V0z\" fill=\"none\"/>\n",
              "    <path d=\"M18.56 5.44l.94 2.06.94-2.06 2.06-.94-2.06-.94-.94-2.06-.94 2.06-2.06.94zm-11 1L8.5 8.5l.94-2.06 2.06-.94-2.06-.94L8.5 2.5l-.94 2.06-2.06.94zm10 10l.94 2.06.94-2.06 2.06-.94-2.06-.94-.94-2.06-.94 2.06-2.06.94z\"/><path d=\"M17.41 7.96l-1.37-1.37c-.4-.4-.92-.59-1.43-.59-.52 0-1.04.2-1.43.59L10.3 9.45l-7.72 7.72c-.78.78-.78 2.05 0 2.83L4 21.41c.39.39.9.59 1.41.59.51 0 1.02-.2 1.41-.59l7.78-7.78 2.81-2.81c.8-.78.8-2.07 0-2.86zM5.41 20L4 18.59l7.72-7.72 1.47 1.35L5.41 20z\"/>\n",
              "  </svg>\n",
              "      </button>\n",
              "      \n",
              "  <style>\n",
              "    .colab-df-container {\n",
              "      display:flex;\n",
              "      flex-wrap:wrap;\n",
              "      gap: 12px;\n",
              "    }\n",
              "\n",
              "    .colab-df-convert {\n",
              "      background-color: #E8F0FE;\n",
              "      border: none;\n",
              "      border-radius: 50%;\n",
              "      cursor: pointer;\n",
              "      display: none;\n",
              "      fill: #1967D2;\n",
              "      height: 32px;\n",
              "      padding: 0 0 0 0;\n",
              "      width: 32px;\n",
              "    }\n",
              "\n",
              "    .colab-df-convert:hover {\n",
              "      background-color: #E2EBFA;\n",
              "      box-shadow: 0px 1px 2px rgba(60, 64, 67, 0.3), 0px 1px 3px 1px rgba(60, 64, 67, 0.15);\n",
              "      fill: #174EA6;\n",
              "    }\n",
              "\n",
              "    [theme=dark] .colab-df-convert {\n",
              "      background-color: #3B4455;\n",
              "      fill: #D2E3FC;\n",
              "    }\n",
              "\n",
              "    [theme=dark] .colab-df-convert:hover {\n",
              "      background-color: #434B5C;\n",
              "      box-shadow: 0px 1px 3px 1px rgba(0, 0, 0, 0.15);\n",
              "      filter: drop-shadow(0px 1px 2px rgba(0, 0, 0, 0.3));\n",
              "      fill: #FFFFFF;\n",
              "    }\n",
              "  </style>\n",
              "\n",
              "      <script>\n",
              "        const buttonEl =\n",
              "          document.querySelector('#df-f4ac7284-0eac-4e7f-b171-86c6cdc4dfb8 button.colab-df-convert');\n",
              "        buttonEl.style.display =\n",
              "          google.colab.kernel.accessAllowed ? 'block' : 'none';\n",
              "\n",
              "        async function convertToInteractive(key) {\n",
              "          const element = document.querySelector('#df-f4ac7284-0eac-4e7f-b171-86c6cdc4dfb8');\n",
              "          const dataTable =\n",
              "            await google.colab.kernel.invokeFunction('convertToInteractive',\n",
              "                                                     [key], {});\n",
              "          if (!dataTable) return;\n",
              "\n",
              "          const docLinkHtml = 'Like what you see? Visit the ' +\n",
              "            '<a target=\"_blank\" href=https://colab.research.google.com/notebooks/data_table.ipynb>data table notebook</a>'\n",
              "            + ' to learn more about interactive tables.';\n",
              "          element.innerHTML = '';\n",
              "          dataTable['output_type'] = 'display_data';\n",
              "          await google.colab.output.renderOutput(dataTable, element);\n",
              "          const docLink = document.createElement('div');\n",
              "          docLink.innerHTML = docLinkHtml;\n",
              "          element.appendChild(docLink);\n",
              "        }\n",
              "      </script>\n",
              "    </div>\n",
              "  </div>\n",
              "  "
            ]
          },
          "metadata": {},
          "execution_count": 20
        }
      ]
    }
  ]
}